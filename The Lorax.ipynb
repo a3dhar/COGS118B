{
 "cells": [
  {
   "cell_type": "code",
   "execution_count": 1,
   "metadata": {},
   "outputs": [],
   "source": [
    "## Running Decision Tree\n",
    "##Basic Decision Tree\n",
    "\n",
    "import pandas as pd\n",
    "import seaborn as sns\n",
    "import matplotlib.pyplot as plt\n",
    "data = pd.read_csv('data.csv')\n",
    "\n"
   ]
  },
  {
   "cell_type": "code",
   "execution_count": 2,
   "metadata": {},
   "outputs": [
    {
     "name": "stdout",
     "output_type": "stream",
     "text": [
      "Train data shape:  (426, 30)\n",
      "Test data shape:  (143, 30)\n",
      "{'criterion': 'entropy', 'max_depth': 8, 'max_features': 9} 0.9460191518467852\n"
     ]
    }
   ],
   "source": [
    "## Running Decision Tree\n",
    "'''\n",
    "Create a Decision Tree for the model \n",
    "'''\n",
    "from sklearn.model_selection import train_test_split, GridSearchCV, StratifiedKFold\n",
    "from sklearn.tree import DecisionTreeClassifier, export_graphviz\n",
    "from sklearn.metrics import accuracy_score, recall_score, precision_score, confusion_matrix\n",
    "from sklearn.ensemble import RandomForestClassifier\n",
    "import pydot\n",
    "\n",
    "#Categorize data for comparison later \n",
    "data['diagnosis'] = data['diagnosis'].astype('category')\n",
    "data['diagnosis'] = data['diagnosis'].map({'M': 1, 'B':0})\n",
    "\n",
    "\n",
    "#Remove unneeded data\n",
    "try:\n",
    "    data.drop('Unnamed: 32',axis = 1 ,inplace = True)\n",
    "    data.drop('id', axis =1, inplace= True)\n",
    "except:\n",
    "    pass\n",
    "\n",
    "#Split data for validation process\n",
    "folds = StratifiedKFold(shuffle = True)\n",
    "\n",
    "#Assign labels and data\n",
    "X = data.drop('diagnosis', axis=1)\n",
    "Y = data['diagnosis']\n",
    "\n",
    "#Get randomized training data from training set\n",
    "x_train, x_hold, y_train, y_hold = train_test_split(X,Y,test_size = 0.25)\n",
    "print(\"Train data shape: \", x_train.shape)\n",
    "print(\"Test data shape: \", x_hold.shape)\n",
    "\n",
    "tree= DecisionTreeClassifier()\n",
    "#Set parameters to search between\n",
    "tree_params = {'max_depth':range(5,10), 'max_features': range(3,10), 'criterion': ['gini', 'entropy']}\n",
    "trees_all = GridSearchCV(tree, tree_params, cv=folds, scoring='accuracy')\n",
    "\n",
    "#Fit data to tree\n",
    "try:\n",
    "    trees_all.fit(x_train, y_train)\n",
    "    #Find optimal parameters based on parameters from before    \n",
    "    print(trees_all.best_params_, trees_all.best_score_)\n",
    "except ValueError:\n",
    "    print('Restart Kernel')\n",
    "    "
   ]
  },
  {
   "cell_type": "code",
   "execution_count": 3,
   "metadata": {},
   "outputs": [
    {
     "name": "stdout",
     "output_type": "stream",
     "text": [
      "Accuracy Score:  0.9370629370629371\n",
      "Recall Score:  0.9607843137254902\n",
      "Precision Score:  0.875\n",
      "\n",
      "Confusion Matrix:\n"
     ]
    },
    {
     "data": {
      "image/png": "[encoded data removed]",
      "text/plain": [
       "<Figure size 432x288 with 1 Axes>"
      ]
     },
     "metadata": {
      "needs_background": "light"
     },
     "output_type": "display_data"
    }
   ],
   "source": [
    "#Predit classification based on model\n",
    "tree_prediction = trees_all.predict(x_hold)\n",
    "\n",
    "#Check Scores \n",
    "print (\"Accuracy Score: \", accuracy_score(y_hold, tree_prediction))\n",
    "print (\"Recall Score: \", recall_score(y_hold, tree_prediction))\n",
    "print (\"Precision Score: \", precision_score(y_hold, tree_prediction))\n",
    "\n",
    "print(\"\\nConfusion Matrix:\")\n",
    "conf_mat = confusion_matrix(y_hold, tree_prediction)\n",
    "sns.heatmap(conf_mat, annot=True, fmt='d', cbar=False)\n",
    "plt.xlabel('Predicted Values')\n",
    "plt.ylabel('Actual Values')\n",
    "plt.title('Actual vs. Predicted Confusion Matrix')\n",
    "plt.show()\n",
    "\n",
    "\n",
    "#Export Decision Tree to Graph\n",
    "tree_graph = export_graphviz(trees_all.best_estimator_, class_names = ['benign', 'malignant'], feature_names = X.columns,out_file = 'tree.dot', filled = True)\n"
   ]
  },
  {
   "cell_type": "code",
   "execution_count": 4,
   "metadata": {},
   "outputs": [
    {
     "name": "stdout",
     "output_type": "stream",
     "text": [
      "{'criterion': 'entropy', 'max_depth': 5, 'max_features': 6, 'min_samples_leaf': 1} 0.962435020519836\n",
      "Accuracy Score:  0.9790209790209791\n",
      "Recall Score:  0.9803921568627451\n",
      "Precision Score:  0.9615384615384616\n",
      "\n",
      "Confusion Matrix:\n"
     ]
    },
    {
     "data": {
      "image/png": "[encoded data removed]",
      "text/plain": [
       "<Figure size 432x288 with 1 Axes>"
      ]
     },
     "metadata": {
      "needs_background": "light"
     },
     "output_type": "display_data"
    }
   ],
   "source": [
    "##Random Forest\n",
    "forest_params = {'max_depth':range(5,10), 'max_features': range(1,10), 'criterion': ['gini', 'entropy'], 'min_samples_leaf': range(1,3)}\n",
    "\n",
    "#Run Classifier using all processors (optimal speed, computationally intensive)\n",
    "forest = RandomForestClassifier(n_jobs = -1)\n",
    "\n",
    "forest_all = GridSearchCV(forest, forest_params, cv=folds, scoring='accuracy')\n",
    "\n",
    "#Fit data to tree\n",
    "try:\n",
    "    forest_all.fit(x_train, y_train)\n",
    "    #Find optimal parameters based on parameters from before    \n",
    "    print(forest_all.best_params_, forest_all.best_score_)\n",
    "except ValueError:\n",
    "    print('Restart Kernel')\n",
    "\n",
    "    \n",
    "#Predit classification based on model\n",
    "forest_prediction = forest_all.predict(x_hold)\n",
    "\n",
    "#Check Scores \n",
    "print (\"Accuracy Score: \", accuracy_score(y_hold, forest_prediction))\n",
    "print (\"Recall Score: \", recall_score(y_hold, forest_prediction))\n",
    "print (\"Precision Score: \", precision_score(y_hold, forest_prediction))\n",
    "\n",
    "print(\"\\nConfusion Matrix:\")\n",
    "conf_mat2 = confusion_matrix(y_hold, forest_prediction)\n",
    "sns.heatmap(conf_mat2, annot=True, fmt='d', cbar=False)\n",
    "plt.xlabel('Predicted Values')\n",
    "plt.ylabel('Actual Values')\n",
    "plt.title('Actual vs. Predicted Confusion Matrix')\n",
    "plt.show()\n",
    "\n",
    "\n",
    "#Export Decision Tree to Graph\n",
    "forest_graph = export_graphviz(forest_all.best_estimator_.estimators_[7], class_names = ['benign', 'malignant'], feature_names = X.columns,out_file = 'forest.dot', filled = True)\n"
   ]
  }
 ],
 "metadata": {
  "kernelspec": {
   "display_name": "Python 3",
   "language": "python",
   "name": "python3"
  },
  "language_info": {
   "codemirror_mode": {
    "name": "ipython",
    "version": 3
   },
   "file_extension": ".py",
   "mimetype": "text/x-python",
   "name": "python",
   "nbconvert_exporter": "python",
   "pygments_lexer": "ipython3",
   "version": "3.7.6"
  }
 },
 "nbformat": 4,
 "nbformat_minor": 4
}
